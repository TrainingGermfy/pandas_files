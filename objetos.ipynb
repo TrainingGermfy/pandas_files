{
 "cells": [
  {
   "cell_type": "code",
   "execution_count": 10,
   "metadata": {
    "collapsed": true
   },
   "outputs": [
    {
     "name": "stdout",
     "output_type": "stream",
     "text": [
      "Hello my name is John\n"
     ]
    }
   ],
   "source": [
    "class Person:\n",
    "  def __init__(self, name='Andrea', age =18, empleado=False):\n",
    "    self.name = name\n",
    "    if age < 0:\n",
    "      self.age = 12\n",
    "    else:\n",
    "      self.age = age\n",
    "\n",
    "  def myfunc(self):\n",
    "    print(\"Hello my name is \" + self.name)\n",
    "\n",
    "p1 = Person(\"John\", 36)\n",
    "p1.myfunc()"
   ]
  },
  {
   "cell_type": "code",
   "execution_count": 33,
   "outputs": [],
   "source": [
    "class German(Person):\n",
    "  def __init__(self):\n",
    "      self.nombre = 'German'\n",
    "      super().__init__(self.nombre)\n",
    "      #self.mifuncion = super().myfunc"
   ],
   "metadata": {
    "collapsed": false,
    "pycharm": {
     "name": "#%%\n"
    }
   }
  },
  {
   "cell_type": "code",
   "execution_count": 34,
   "outputs": [],
   "source": [
    "a = German()"
   ],
   "metadata": {
    "collapsed": false,
    "pycharm": {
     "name": "#%%\n"
    }
   }
  },
  {
   "cell_type": "code",
   "execution_count": 35,
   "outputs": [
    {
     "name": "stdout",
     "output_type": "stream",
     "text": [
      "Hello my name is German\n"
     ]
    }
   ],
   "source": [
    "a.myfunc()"
   ],
   "metadata": {
    "collapsed": false,
    "pycharm": {
     "name": "#%%\n"
    }
   }
  },
  {
   "cell_type": "code",
   "execution_count": 36,
   "outputs": [
    {
     "data": {
      "text/plain": "['a', 'a', 'a']"
     },
     "execution_count": 36,
     "metadata": {},
     "output_type": "execute_result"
    }
   ],
   "source": [
    "import re\n",
    "text = \"That person wears marvelous trousers.\"\n",
    "pattern = 'a'\n",
    "re.findall(pattern, text)\n"
   ],
   "metadata": {
    "collapsed": false,
    "pycharm": {
     "name": "#%%\n"
    }
   }
  },
  {
   "cell_type": "code",
   "execution_count": 37,
   "outputs": [
    {
     "data": {
      "text/plain": "['er', 'er']"
     },
     "execution_count": 37,
     "metadata": {},
     "output_type": "execute_result"
    }
   ],
   "source": [
    "pattern = 'er'\n",
    "re.findall(pattern, text)\n"
   ],
   "metadata": {
    "collapsed": false,
    "pycharm": {
     "name": "#%%\n"
    }
   }
  },
  {
   "cell_type": "code",
   "execution_count": 38,
   "outputs": [
    {
     "data": {
      "text/plain": "['e', 'r', 'e', 'r', 'r', 'e', 'r', 'e', 'r']"
     },
     "execution_count": 38,
     "metadata": {},
     "output_type": "execute_result"
    }
   ],
   "source": [
    "pattern = '[er]'\n",
    "re.findall(pattern, text)\n"
   ],
   "metadata": {
    "collapsed": false,
    "pycharm": {
     "name": "#%%\n"
    }
   }
  },
  {
   "cell_type": "code",
   "execution_count": 39,
   "outputs": [
    {
     "data": {
      "text/plain": "['gray', 'grey']"
     },
     "execution_count": 39,
     "metadata": {},
     "output_type": "execute_result"
    }
   ],
   "source": [
    "text = \"Is it spelled gray or grey?\"\n",
    "pattern = 'gr[ae]y'\n",
    "re.findall(pattern, text)"
   ],
   "metadata": {
    "collapsed": false,
    "pycharm": {
     "name": "#%%\n"
    }
   }
  },
  {
   "cell_type": "code",
   "execution_count": 42,
   "outputs": [
    {
     "data": {
      "text/plain": "['A', 'B', 'G', 'C']"
     },
     "execution_count": 42,
     "metadata": {},
     "output_type": "execute_result"
    }
   ],
   "source": [
    "text = \"This is an A and B conversation, so G your way Copy out of it.\"\n",
    "pattern = '[A-J]'\n",
    "re.findall(pattern, text)"
   ],
   "metadata": {
    "collapsed": false,
    "pycharm": {
     "name": "#%%\n"
    }
   }
  },
  {
   "cell_type": "code",
   "execution_count": 43,
   "outputs": [
    {
     "data": {
      "text/plain": "['M',\n 'y',\n ' ',\n 'b',\n 'o',\n 's',\n 's',\n ' ',\n 'a',\n 's',\n 'k',\n 'e',\n 'd',\n ' ',\n 'm',\n 'e',\n ' ',\n 't',\n 'o',\n ' ',\n 't',\n 'u',\n 'r',\n 'n',\n ' ',\n 'i',\n 'n',\n ' ',\n 'm',\n 'y',\n ' ',\n 'T',\n 'P',\n 'S',\n ' ',\n 'r',\n 'e',\n 'p',\n 'o',\n 'r',\n 't',\n 's',\n '.',\n ' ',\n ' ',\n 'I',\n ' ',\n 't',\n 'o',\n 'l',\n 'd',\n ' ',\n 'h',\n 'i',\n 'm',\n ' ',\n 't',\n 'h',\n 'e',\n 'y',\n ' ',\n 'w',\n 'e',\n 'r',\n 'e',\n ' ',\n 'd',\n 'o',\n 'n',\n 'e',\n ',',\n ' ',\n 'b',\n 'u',\n 't',\n ' ',\n 't',\n 'h',\n 'e',\n 'y',\n ' ',\n 'a',\n 'r',\n 'e',\n ' ',\n 'n',\n 'o',\n 't',\n '.']"
     },
     "execution_count": 43,
     "metadata": {},
     "output_type": "execute_result"
    }
   ],
   "source": [
    "text = \"My boss asked me to turn in my TPS reports. \\n I told him they were done, but they are not.\"\n",
    "pattern = '.'\n",
    "re.findall(pattern, text)\n"
   ],
   "metadata": {
    "collapsed": false,
    "pycharm": {
     "name": "#%%\n"
    }
   }
  },
  {
   "cell_type": "code",
   "execution_count": 44,
   "outputs": [
    {
     "data": {
      "text/plain": "['M',\n 'y',\n ' ',\n 'o',\n 's',\n 's',\n ' ',\n 's',\n ' ',\n ' ',\n 't',\n 'o',\n ' ',\n 't',\n 'u',\n 'r',\n 'n',\n ' ',\n 'n',\n ' ',\n 'y',\n ' ',\n 'T',\n 'P',\n 'S',\n ' ',\n 'r',\n 'p',\n 'o',\n 'r',\n 't',\n 's',\n '.',\n ' ',\n '\\n',\n ' ',\n 'I',\n ' ',\n 't',\n 'o',\n ' ',\n ' ',\n 't',\n 'y',\n ' ',\n 'w',\n 'r',\n ' ',\n 'o',\n 'n',\n ',',\n ' ',\n 'u',\n 't',\n ' ',\n 't',\n 'y',\n ' ',\n 'r',\n ' ',\n 'n',\n 'o',\n 't',\n '.']"
     },
     "execution_count": 44,
     "metadata": {},
     "output_type": "execute_result"
    }
   ],
   "source": [
    "pattern = '[^a-m]'\n",
    "re.findall(pattern, text)"
   ],
   "metadata": {
    "collapsed": false,
    "pycharm": {
     "name": "#%%\n"
    }
   }
  },
  {
   "cell_type": "code",
   "execution_count": 47,
   "outputs": [
    {
     "name": "stdout",
     "output_type": "stream",
     "text": [
      "['My bo']\n"
     ]
    }
   ],
   "source": [
    "pattern = '^My bo'\n",
    "print(re.findall(pattern, text))"
   ],
   "metadata": {
    "collapsed": false,
    "pycharm": {
     "name": "#%%\n"
    }
   }
  },
  {
   "cell_type": "code",
   "execution_count": 55,
   "outputs": [
    {
     "name": "stdout",
     "output_type": "stream",
     "text": [
      "[]\n"
     ]
    }
   ],
   "source": [
    "pattern = 'not.$'\n",
    "print(re.findall(pattern, text))"
   ],
   "metadata": {
    "collapsed": false,
    "pycharm": {
     "name": "#%%\n"
    }
   }
  },
  {
   "cell_type": "code",
   "execution_count": 57,
   "outputs": [
    {
     "name": "stdout",
     "output_type": "stream",
     "text": [
      "['TPS', 'reports']\n"
     ]
    }
   ],
   "source": [
    "pattern = 'bosses|TPS|reports'\n",
    "print(re.findall(pattern, text))"
   ],
   "metadata": {
    "collapsed": false,
    "pycharm": {
     "name": "#%%\n"
    }
   }
  },
  {
   "cell_type": "code",
   "execution_count": 58,
   "outputs": [
    {
     "name": "stdout",
     "output_type": "stream",
     "text": [
      "['cat', 'ct', 'cat', 'ct', 'ct']\n"
     ]
    }
   ],
   "source": [
    "text = \"The complicit cat interacted with the other cats exactly as we expected.\"\n",
    "pattern = \"ca*t\"\n",
    "print(re.findall(pattern, text))\n"
   ],
   "metadata": {
    "collapsed": false,
    "pycharm": {
     "name": "#%%\n"
    }
   }
  },
  {
   "cell_type": "code",
   "execution_count": 59,
   "outputs": [
    {
     "name": "stdout",
     "output_type": "stream",
     "text": [
      "['cat', 'cat']\n"
     ]
    }
   ],
   "source": [
    "pattern = \"ca+t\"\n",
    "print(re.findall(pattern, text))"
   ],
   "metadata": {
    "collapsed": false,
    "pycharm": {
     "name": "#%%\n"
    }
   }
  },
  {
   "cell_type": "code",
   "execution_count": 63,
   "outputs": [
    {
     "name": "stdout",
     "output_type": "stream",
     "text": [
      "['color', 'colour']\n"
     ]
    }
   ],
   "source": [
    "text = \"Is the correct spelling color or colour?  colouuuuuur\"\n",
    "pattern = \"colou?r\"\n",
    "print(re.findall(pattern, text))"
   ],
   "metadata": {
    "collapsed": false,
    "pycharm": {
     "name": "#%%\n"
    }
   }
  },
  {
   "cell_type": "code",
   "execution_count": 69,
   "outputs": [
    {
     "name": "stdout",
     "output_type": "stream",
     "text": [
      "['awww', 'awww', 'awww']\n"
     ]
    }
   ],
   "source": [
    "text = \"Let's see how we can match the following: aw, aww, awww, awwww, awwwww\"\n",
    "pattern = \"aw{3}\"\n",
    "print(re.findall(pattern, text))"
   ],
   "metadata": {
    "collapsed": false,
    "pycharm": {
     "name": "#%%\n"
    }
   }
  },
  {
   "cell_type": "code",
   "execution_count": 70,
   "outputs": [
    {
     "name": "stdout",
     "output_type": "stream",
     "text": [
      "['aww', 'awww', 'awwww', 'awwwww']\n"
     ]
    }
   ],
   "source": [
    "pattern = \"aw{2,}\"\n",
    "print(re.findall(pattern, text))"
   ],
   "metadata": {
    "collapsed": false,
    "pycharm": {
     "name": "#%%\n"
    }
   }
  },
  {
   "cell_type": "code",
   "execution_count": 71,
   "outputs": [
    {
     "name": "stdout",
     "output_type": "stream",
     "text": [
      "['aw', 'aww', 'awww', 'awww', 'awww']\n"
     ]
    }
   ],
   "source": [
    "pattern = \"aw{1,3}\"\n",
    "print(re.findall(pattern, text))\n"
   ],
   "metadata": {
    "collapsed": false,
    "pycharm": {
     "name": "#%%\n"
    }
   }
  },
  {
   "cell_type": "code",
   "execution_count": 72,
   "outputs": [
    {
     "data": {
      "text/plain": "['T',\n 'h',\n '1',\n 's',\n 'i',\n 's',\n 'g',\n 'o',\n 'i',\n 'n',\n 'g',\n 't',\n 'o',\n '_',\n 'b',\n 'e',\n 'a',\n 'w',\n 'e',\n 'i',\n 'r',\n 'd',\n 's',\n 'e',\n 'n',\n 't',\n 'e',\n 'n',\n 'c',\n 'e',\n 'w',\n 'i',\n 't',\n 'h',\n 'C',\n 'o',\n 'p',\n 'y',\n 'b',\n 'u',\n 'n',\n 'c',\n 'h',\n 'o',\n 'f',\n 't',\n 'u',\n 'f',\n 'f',\n 'i',\n 'n',\n 'i',\n 't',\n '3']"
     },
     "execution_count": 72,
     "metadata": {},
     "output_type": "execute_result"
    }
   ],
   "source": [
    "text = \"Th1s is going to_be a weird sentence with @ Copy bunch-of-$tuff in it <3.\"\n",
    "pattern='\\w'#[A-Za-z0-9_]\n",
    "re.findall(pattern, text)"
   ],
   "metadata": {
    "collapsed": false,
    "pycharm": {
     "name": "#%%\n"
    }
   }
  },
  {
   "cell_type": "code",
   "execution_count": 74,
   "outputs": [
    {
     "data": {
      "text/plain": "['1', '3']"
     },
     "execution_count": 74,
     "metadata": {},
     "output_type": "execute_result"
    }
   ],
   "source": [
    "pattern='\\W'#[^A-Za-z0-9_]\n",
    "re.findall(pattern, text)\n",
    "\n",
    "pattern = '\\d'\n",
    "re.findall(pattern, text)"
   ],
   "metadata": {
    "collapsed": false,
    "pycharm": {
     "name": "#%%\n"
    }
   }
  },
  {
   "cell_type": "code",
   "execution_count": 75,
   "outputs": [
    {
     "data": {
      "text/plain": "['T',\n 'h',\n 's',\n ' ',\n 'i',\n 's',\n ' ',\n 'g',\n 'o',\n 'i',\n 'n',\n 'g',\n ' ',\n 't',\n 'o',\n '_',\n 'b',\n 'e',\n ' ',\n 'a',\n ' ',\n 'w',\n 'e',\n 'i',\n 'r',\n 'd',\n ' ',\n 's',\n 'e',\n 'n',\n 't',\n 'e',\n 'n',\n 'c',\n 'e',\n ' ',\n 'w',\n 'i',\n 't',\n 'h',\n ' ',\n '@',\n ' ',\n 'C',\n 'o',\n 'p',\n 'y',\n ' ',\n 'b',\n 'u',\n 'n',\n 'c',\n 'h',\n '-',\n 'o',\n 'f',\n '-',\n '$',\n 't',\n 'u',\n 'f',\n 'f',\n ' ',\n 'i',\n 'n',\n ' ',\n 'i',\n 't',\n ' ',\n '<',\n '.']"
     },
     "execution_count": 75,
     "metadata": {},
     "output_type": "execute_result"
    }
   ],
   "source": [
    "pattern = '\\D'\n",
    "re.findall(pattern, text)\n"
   ],
   "metadata": {
    "collapsed": false,
    "pycharm": {
     "name": "#%%\n"
    }
   }
  },
  {
   "cell_type": "code",
   "execution_count": null,
   "outputs": [],
   "source": [
    "z"
   ],
   "metadata": {
    "collapsed": false,
    "pycharm": {
     "name": "#%%\n"
    }
   }
  }
 ],
 "metadata": {
  "kernelspec": {
   "display_name": "Python 3",
   "language": "python",
   "name": "python3"
  },
  "language_info": {
   "codemirror_mode": {
    "name": "ipython",
    "version": 2
   },
   "file_extension": ".py",
   "mimetype": "text/x-python",
   "name": "python",
   "nbconvert_exporter": "python",
   "pygments_lexer": "ipython2",
   "version": "2.7.6"
  }
 },
 "nbformat": 4,
 "nbformat_minor": 0
}